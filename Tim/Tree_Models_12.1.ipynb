{
 "cells": [
  {
   "cell_type": "code",
   "execution_count": 1,
   "metadata": {},
   "outputs": [],
   "source": [
    "%matplotlib inline\n",
    "\n",
    "import pandas as pd\n",
    "import numpy as np\n",
    "import matplotlib.pyplot as plt\n",
    "#import sklearn\n",
    "import sklearn.model_selection as ms\n",
    "from sklearn.model_selection import train_test_split"
   ]
  },
  {
   "cell_type": "code",
   "execution_count": 2,
   "metadata": {},
   "outputs": [],
   "source": [
    "train = pd.read_csv('train_tim_12.1.csv', index_col=0)"
   ]
  },
  {
   "cell_type": "code",
   "execution_count": 4,
   "metadata": {},
   "outputs": [
    {
     "data": {
      "text/plain": [
       "(51684, 110)"
      ]
     },
     "execution_count": 4,
     "metadata": {},
     "output_type": "execute_result"
    }
   ],
   "source": [
    "train.shape"
   ]
  },
  {
   "cell_type": "code",
   "execution_count": 3,
   "metadata": {},
   "outputs": [],
   "source": [
    "test = pd.read_csv('test_tim_12.1.csv', index_col=0)"
   ]
  },
  {
   "cell_type": "code",
   "execution_count": 5,
   "metadata": {},
   "outputs": [],
   "source": [
    "train_data = train.iloc[:, 0:108]\n",
    "train_readmitted = train.iloc[:, 109]"
   ]
  },
  {
   "cell_type": "code",
   "execution_count": 6,
   "metadata": {},
   "outputs": [],
   "source": [
    "X_train, X_test, y_train, y_test = train_test_split(train_data, train_readmitted, test_size=0.2, random_state=0)"
   ]
  },
  {
   "cell_type": "code",
   "execution_count": 7,
   "metadata": {},
   "outputs": [],
   "source": [
    "def get_error(X_train, y_train, X_test, y_test, model, show = True):\n",
    "    model.fit(X_train, y_train)\n",
    "    train_error = 1 - model.score(X_train, y_train)\n",
    "    test_error  = 1 - model.score(X_test, y_test)\n",
    "    if show:\n",
    "        print(\"The training error is: %.5f\" %train_error)\n",
    "        print(\"The test     error is: %.5f\" %test_error)\n",
    "    return [train_error, test_error]"
   ]
  },
  {
   "cell_type": "code",
   "execution_count": 8,
   "metadata": {},
   "outputs": [],
   "source": [
    "grid_para_tree = {'criterion': ['gini', 'entropy'], 'max_depth': range(1, 31)}"
   ]
  },
  {
   "cell_type": "code",
   "execution_count": 9,
   "metadata": {},
   "outputs": [
    {
     "name": "stdout",
     "output_type": "stream",
     "text": [
      "Training error: 2.4185551551481055e-05\n",
      "Test error: 0.257811744219793\n"
     ]
    }
   ],
   "source": [
    "from sklearn import tree\n",
    "tree_model = tree.DecisionTreeClassifier()\n",
    "tree_model.fit(X_train, y_train)\n",
    "print(\"Training error: \" + str(1-tree_model.score(X_train, y_train)))\n",
    "print(\"Test error: \" + str(1-tree_model.score(X_test, y_test)))"
   ]
  },
  {
   "cell_type": "code",
   "execution_count": 10,
   "metadata": {},
   "outputs": [
    {
     "name": "stdout",
     "output_type": "stream",
     "text": [
      "The training error is: 0.00002\n",
      "The test     error is: 0.25830\n"
     ]
    },
    {
     "data": {
      "text/plain": [
       "[2.4185551551481055e-05, 0.25829544355228795]"
      ]
     },
     "execution_count": 10,
     "metadata": {},
     "output_type": "execute_result"
    }
   ],
   "source": [
    "from sklearn import tree\n",
    "tree_model = tree.DecisionTreeClassifier()\n",
    "get_error(X_train, y_train, X_test, y_test, tree_model)"
   ]
  },
  {
   "cell_type": "code",
   "execution_count": 11,
   "metadata": {},
   "outputs": [
    {
     "data": {
      "text/plain": [
       "GridSearchCV(cv=5, error_score='raise',\n",
       "       estimator=DecisionTreeClassifier(class_weight=None, criterion='gini', max_depth=None,\n",
       "            max_features=None, max_leaf_nodes=None,\n",
       "            min_impurity_decrease=0.0, min_impurity_split=None,\n",
       "            min_samples_leaf=1, min_samples_split=2,\n",
       "            min_weight_fraction_leaf=0.0, presort=False, random_state=0,\n",
       "            splitter='best'),\n",
       "       fit_params=None, iid=True, n_jobs=-1,\n",
       "       param_grid=[{'max_depth': range(1, 31)}], pre_dispatch='2*n_jobs',\n",
       "       refit=True, return_train_score=True, scoring='accuracy', verbose=0)"
      ]
     },
     "execution_count": 11,
     "metadata": {},
     "output_type": "execute_result"
    }
   ],
   "source": [
    "grid_para_tree = [\n",
    "    {'max_depth': range(1, 31)}\n",
    "]\n",
    "\n",
    "tree_model.set_params(random_state=0)\n",
    "grid_search_tree = ms.GridSearchCV(tree_model, grid_para_tree, scoring='accuracy', cv=5, n_jobs=-1, return_train_score=True)\n",
    "grid_search_tree.fit(X_train, y_train)"
   ]
  },
  {
   "cell_type": "code",
   "execution_count": 12,
   "metadata": {},
   "outputs": [],
   "source": [
    "test_error_range  = [1 - x for x in grid_search_tree.cv_results_['mean_test_score']]\n",
    "train_error_range = [1 - x for x in grid_search_tree.cv_results_['mean_train_score']]"
   ]
  },
  {
   "cell_type": "code",
   "execution_count": 13,
   "metadata": {},
   "outputs": [
    {
     "data": {
      "image/png": "[encoded data removed]",
      "text/plain": [
       "<Figure size 432x288 with 1 Axes>"
      ]
     },
     "metadata": {
      "needs_background": "light"
     },
     "output_type": "display_data"
    }
   ],
   "source": [
    "# plot error rates by max_depth values\n",
    "plt.plot(range(1,31), test_error_range,\n",
    "        c='blue', label='test error')\n",
    "plt.plot(range(1,31), train_error_range,\n",
    "        c='red', label='train error')\n",
    "plt.xlabel('Max_depth')\n",
    "plt.ylabel('Error rate')\n",
    "plt.legend()\n",
    "plt.show()\n",
    "\n",
    "# The plot below indicates depth = 5 results in the lowest test error"
   ]
  },
  {
   "cell_type": "code",
   "execution_count": 14,
   "metadata": {},
   "outputs": [
    {
     "data": {
      "text/plain": [
       "Text(0.5,0,'depth')"
      ]
     },
     "execution_count": 14,
     "metadata": {},
     "output_type": "execute_result"
    },
    {
     "data": {
      "image/png": "[encoded data removed]",
      "text/plain": [
       "<Figure size 432x288 with 1 Axes>"
      ]
     },
     "metadata": {
      "needs_background": "light"
     },
     "output_type": "display_data"
    }
   ],
   "source": [
    "depth  = range(1, 30)\n",
    "tree_train = []\n",
    "tree_test = []\n",
    "for i in depth:\n",
    "    tree_model.set_params(max_depth = i)\n",
    "    error = get_error(X_train, y_train, X_test, y_test, tree_model, show=False)\n",
    "    tree_train.append(error[0])\n",
    "    tree_test.append(error[1])\n",
    "\n",
    "\n",
    "plt.plot(depth, tree_train, c = 'blue', label='training error')\n",
    "plt.plot(depth, tree_test, c = 'red', label='test error')\n",
    "plt.legend(loc=7)\n",
    "plt.xlabel('depth')"
   ]
  },
  {
   "cell_type": "code",
   "execution_count": 15,
   "metadata": {},
   "outputs": [
    {
     "name": "stdout",
     "output_type": "stream",
     "text": [
      "The best score is 0.8301\n",
      "The training error is 0.1691\n",
      "The testing error is 0.1698\n"
     ]
    }
   ],
   "source": [
    "grid_para_tree = {'criterion': ['gini', 'entropy'], 'max_depth': range(1, 31)}\n",
    "grid_search_tree = ms.GridSearchCV(tree_model, grid_para_tree, cv=5, scoring='accuracy').fit(X_train, y_train)\n",
    "print('The best score is %.4f' %grid_search_tree.best_score_)\n",
    "print('The training error is %.4f' %(1 - grid_search_tree.best_estimator_.score(X_train, y_train)))\n",
    "print('The testing error is %.4f' %(1 - grid_search_tree.best_estimator_.score(X_test, y_test)))"
   ]
  },
  {
   "cell_type": "code",
   "execution_count": 16,
   "metadata": {},
   "outputs": [
    {
     "name": "stdout",
     "output_type": "stream",
     "text": [
      "Best parameters: {'criterion': 'gini', 'max_depth': 2}\n"
     ]
    }
   ],
   "source": [
    "print('Best parameters: '+ str(grid_search_tree.best_params_))"
   ]
  },
  {
   "cell_type": "code",
   "execution_count": 18,
   "metadata": {},
   "outputs": [
    {
     "data": {
      "text/plain": [
       "array([(b'number_inp', 1.), (b'time_in_ho', 0.), (b'rosiglitaz', 0.),\n",
       "       (b'rosiglitaz', 0.), (b'rosiglitaz', 0.), (b'repaglinid', 0.),\n",
       "       (b'repaglinid', 0.), (b'repaglinid', 0.), (b'race_Hispa', 0.),\n",
       "       (b'race_Cauca', 0.), (b'race_Asian', 0.), (b'race_Afric', 0.),\n",
       "       (b'pioglitazo', 0.), (b'pioglitazo', 0.), (b'pioglitazo', 0.),\n",
       "       (b'number_out', 0.), (b'number_eme', 0.), (b'number_dia', 0.),\n",
       "       (b'num_proced', 0.), (b'num_medica', 0.), (b'num_lab_pr', 0.),\n",
       "       (b'metformin_', 0.), (b'metformin_', 0.), (b'metformin_', 0.),\n",
       "       (b'medical_sp', 0.), (b'medical_sp', 0.), (b'medical_sp', 0.),\n",
       "       (b'medical_sp', 0.), (b'medical_sp', 0.), (b'medical_sp', 0.),\n",
       "       (b'medical_sp', 0.), (b'medical_sp', 0.), (b'medical_sp', 0.),\n",
       "       (b'medical_sp', 0.), (b'medical_sp', 0.), (b'medical_sp', 0.),\n",
       "       (b'medical_sp', 0.), (b'medical_sp', 0.), (b'medical_sp', 0.),\n",
       "       (b'max_glu_se', 0.), (b'max_glu_se', 0.), (b'max_glu_se', 0.),\n",
       "       (b'max_glu_se', 0.), (b'insulin_Up', 0.), (b'insulin_St', 0.),\n",
       "       (b'insulin_Do', 0.), (b'glyburide_', 0.), (b'glyburide_', 0.),\n",
       "       (b'glyburide_', 0.), (b'glipizide_', 0.), (b'glipizide_', 0.),\n",
       "       (b'glipizide_', 0.), (b'glimepirid', 0.), (b'glimepirid', 0.),\n",
       "       (b'glimepirid', 0.), (b'gender_Mal', 0.), (b'discharge_', 0.),\n",
       "       (b'discharge_', 0.), (b'discharge_', 0.), (b'discharge_', 0.),\n",
       "       (b'discharge_', 0.), (b'discharge_', 0.), (b'discharge_', 0.),\n",
       "       (b'discharge_', 0.), (b'discharge_', 0.), (b'discharge_', 0.),\n",
       "       (b'diag_3_Res', 0.), (b'diag_3_Neo', 0.), (b'diag_3_Mus', 0.),\n",
       "       (b'diag_3_Inj', 0.), (b'diag_3_Gen', 0.), (b'diag_3_Dig', 0.),\n",
       "       (b'diag_3_Dia', 0.), (b'diag_3_Cir', 0.), (b'diag_2_Res', 0.),\n",
       "       (b'diag_2_Neo', 0.), (b'diag_2_Mus', 0.), (b'diag_2_Men', 0.),\n",
       "       (b'diag_2_Inj', 0.), (b'diag_2_Gen', 0.), (b'diag_2_Dig', 0.),\n",
       "       (b'diag_2_Dia', 0.), (b'diag_2_Cir', 0.), (b'diag_1_Res', 0.),\n",
       "       (b'diag_1_Neo', 0.), (b'diag_1_Mus', 0.), (b'diag_1_Men', 0.),\n",
       "       (b'diag_1_Inj', 0.), (b'diag_1_Gen', 0.), (b'diag_1_Dig', 0.),\n",
       "       (b'diag_1_Dia', 0.), (b'diag_1_Cir', 0.), (b'change_Ch', 0.),\n",
       "       (b'age', 0.), (b'admission_', 0.), (b'admission_', 0.),\n",
       "       (b'admission_', 0.), (b'admission_', 0.), (b'admission_', 0.),\n",
       "       (b'admission_', 0.), (b'admission_', 0.), (b'admission_', 0.),\n",
       "       (b'admission_', 0.), (b'admission_', 0.), (b'admission_', 0.),\n",
       "       (b'A1Cresult_', 0.), (b'A1Cresult_', 0.), (b'A1Cresult_', 0.)],\n",
       "      dtype=[('feature', 'S10'), ('importance', '<f8')])"
      ]
     },
     "execution_count": 18,
     "metadata": {},
     "output_type": "execute_result"
    }
   ],
   "source": [
    "tree_final = grid_search_tree.best_estimator_\n",
    "feature_importance = list(zip(train.columns[0:108], tree_final.feature_importances_))\n",
    "dtype = [('feature', 'S10'), ('importance', 'float')]\n",
    "feature_importance = np.array(feature_importance, dtype = dtype)\n",
    "feature_sort = np.sort(feature_importance, order='importance')[::-1]\n",
    "feature_sort"
   ]
  },
  {
   "cell_type": "code",
   "execution_count": 19,
   "metadata": {},
   "outputs": [
    {
     "data": {
      "text/plain": [
       "<BarContainer object of 108 artists>"
      ]
     },
     "execution_count": 19,
     "metadata": {},
     "output_type": "execute_result"
    },
    {
     "data": {
      "image/png": "[encoded data removed]",
      "text/plain": [
       "<Figure size 432x288 with 1 Axes>"
      ]
     },
     "metadata": {
      "needs_background": "light"
     },
     "output_type": "display_data"
    }
   ],
   "source": [
    "featureNames, featureScores = zip(*list(feature_sort))\n",
    "plt.barh(range(len(featureScores)), featureScores, tick_label=featureNames)"
   ]
  },
  {
   "cell_type": "code",
   "execution_count": 20,
   "metadata": {},
   "outputs": [
    {
     "name": "stderr",
     "output_type": "stream",
     "text": [
      "/Users/timothywaterman/anaconda3/lib/python3.7/site-packages/sklearn/ensemble/weight_boosting.py:29: DeprecationWarning: numpy.core.umath_tests is an internal NumPy module and should not be imported. It will be removed in a future NumPy release.\n",
      "  from numpy.core.umath_tests import inner1d\n"
     ]
    },
    {
     "name": "stdout",
     "output_type": "stream",
     "text": [
      "The training error is: 0.02024\n",
      "The test     error is: 0.17520\n"
     ]
    }
   ],
   "source": [
    "from sklearn import ensemble\n",
    "randomForest = ensemble.RandomForestClassifier()\n",
    "\n",
    "# fit RF model on training set\n",
    "randomForest.set_params(random_state=0)\n",
    "\n",
    "randomForest.fit(X_train, y_train) \n",
    "\n",
    "print(\"The training error is: %.5f\" % (1 - randomForest.score(X_train, y_train)))\n",
    "print(\"The test     error is: %.5f\" % (1 - randomForest.score(X_test, y_test)))"
   ]
  },
  {
   "cell_type": "code",
   "execution_count": 23,
   "metadata": {},
   "outputs": [],
   "source": [
    "grid_para_forest = {\n",
    "    'criterion': ['gini', 'entropy'],\n",
    "    'max_depth': range(1, 4),\n",
    "    'n_estimators': range(10, 110, 10)\n",
    "}"
   ]
  },
  {
   "cell_type": "code",
   "execution_count": 24,
   "metadata": {},
   "outputs": [
    {
     "name": "stdout",
     "output_type": "stream",
     "text": [
      "CPU times: user 21.2 s, sys: 663 ms, total: 21.8 s\n",
      "Wall time: 1min 14s\n"
     ]
    },
    {
     "data": {
      "text/plain": [
       "GridSearchCV(cv=5, error_score='raise',\n",
       "       estimator=RandomForestClassifier(bootstrap=True, class_weight=None, criterion='gini',\n",
       "            max_depth=None, max_features='auto', max_leaf_nodes=None,\n",
       "            min_impurity_decrease=0.0, min_impurity_split=None,\n",
       "            min_samples_leaf=1, min_samples_split=2,\n",
       "            min_weight_fraction_leaf=0.0, n_estimators=10, n_jobs=1,\n",
       "            oob_score=False, random_state=0, verbose=0, warm_start=False),\n",
       "       fit_params=None, iid=True, n_jobs=-1,\n",
       "       param_grid={'criterion': ['gini', 'entropy'], 'max_depth': range(1, 4), 'n_estimators': range(10, 110, 10)},\n",
       "       pre_dispatch='2*n_jobs', refit=True, return_train_score='warn',\n",
       "       scoring='accuracy', verbose=0)"
      ]
     },
     "execution_count": 24,
     "metadata": {},
     "output_type": "execute_result"
    }
   ],
   "source": [
    "grid_search_forest = ms.GridSearchCV(randomForest, grid_para_forest, scoring='accuracy', cv=5, n_jobs=-1)\n",
    "%time grid_search_forest.fit(X_train, y_train)"
   ]
  },
  {
   "cell_type": "code",
   "execution_count": 25,
   "metadata": {},
   "outputs": [
    {
     "data": {
      "text/plain": [
       "{'criterion': 'gini', 'max_depth': 1, 'n_estimators': 10}"
      ]
     },
     "execution_count": 25,
     "metadata": {},
     "output_type": "execute_result"
    }
   ],
   "source": [
    "grid_search_forest.best_params_"
   ]
  },
  {
   "cell_type": "code",
   "execution_count": 27,
   "metadata": {},
   "outputs": [
    {
     "data": {
      "text/plain": [
       "0.8240259269112632"
      ]
     },
     "execution_count": 27,
     "metadata": {},
     "output_type": "execute_result"
    }
   ],
   "source": [
    "grid_search_forest.best_score_"
   ]
  },
  {
   "cell_type": "code",
   "execution_count": null,
   "metadata": {},
   "outputs": [],
   "source": []
  }
 ],
 "metadata": {
  "kernelspec": {
   "display_name": "Python 3",
   "language": "python",
   "name": "python3"
  },
  "language_info": {
   "codemirror_mode": {
    "name": "ipython",
    "version": 3
   },
   "file_extension": ".py",
   "mimetype": "text/x-python",
   "name": "python",
   "nbconvert_exporter": "python",
   "pygments_lexer": "ipython3",
   "version": "3.7.0"
  }
 },
 "nbformat": 4,
 "nbformat_minor": 2
}
