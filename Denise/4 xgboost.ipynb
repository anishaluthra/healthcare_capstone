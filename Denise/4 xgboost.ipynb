{
 "cells": [
  {
   "cell_type": "code",
   "execution_count": 1,
   "metadata": {},
   "outputs": [],
   "source": [
    "%matplotlib inline\n",
    "import numpy as np\n",
    "import pandas as pd\n",
    "import matplotlib.pyplot as plt\n",
    "from sklearn.ensemble import GradientBoostingRegressor\n",
    "from sklearn.preprocessing import LabelEncoder\n",
    "from sklearn.linear_model import LinearRegression,LogisticRegression\n",
    "from sklearn.model_selection import GridSearchCV,RandomizedSearchCV\n",
    "from sklearn.ensemble import GradientBoostingRegressor\n",
    "import xgboost as xgb\n",
    "df=pd.read_csv('../data/le_train.csv',index_col=0)"
   ]
  },
  {
   "cell_type": "code",
   "execution_count": 2,
   "metadata": {},
   "outputs": [],
   "source": [
    "trainX=df.drop('readmitted',axis=1).copy()\n",
    "trainY=df['readmitted']"
   ]
  },
  {
   "cell_type": "code",
   "execution_count": 3,
   "metadata": {},
   "outputs": [],
   "source": [
    "para= {\"learning_rate\" : [0.01,0.1,1],\n",
    "       \"n_estimators\": [200,500,1000,2000,3000,4000],\n",
    "       \"max_depth\" : [3,4,5,6],\n",
    "       \"subsample\" : [0.8,0.9,1],\n",
    "       \"colsample_bytree\" : [0.8,0.9,1]}"
   ]
  },
  {
   "cell_type": "code",
   "execution_count": 4,
   "metadata": {},
   "outputs": [],
   "source": [
    "xgboost = xgb.XGBRegressor()\n",
    "n_iter_search = 2\n",
    "ran_search_xgb=RandomizedSearchCV(estimator=xgboost, param_distributions=para,n_iter=n_iter_search,\n",
    "                                  scoring='neg_mean_squared_error', cv=5, return_train_score=True)"
   ]
  },
  {
   "cell_type": "code",
   "execution_count": 35,
   "metadata": {},
   "outputs": [],
   "source": [
    "#xgboost = xgb.XGBClassifier()\n",
    "#n_iter_search =2\n",
    "#ran_search_xgb=RandomizedSearchCV(estimator=xgboost, param_distributions=para,n_iter=n_iter_search,\n",
    "#                                  scoring='roc_auc', cv=5, return_train_score=True)"
   ]
  },
  {
   "cell_type": "code",
   "execution_count": null,
   "metadata": {},
   "outputs": [],
   "source": [
    "# training_start = time.perf_counter()\n",
    "# knn.fit(X_train_new, y_train_new)\n",
    "# training_end = time.perf_counter()\n",
    "# prediction_start = time.perf_counter()\n",
    "# preds = knn.predict(X_test)\n",
    "# prediction_end = time.perf_counter()\n",
    "# acc_knn = (preds == y_test).sum().astype(float) / len(preds)*100    \n",
    "# acc = accuracy_score(y_test, preds)\n",
    "# pre = precision_score(y_test, preds)\n",
    "# rec = recall_score(y_test, preds)\n",
    "# AUC = roc_auc_score(y_test, preds)\n",
    "# knn_train_time = training_end-training_start\n",
    "# knn_prediction_time = prediction_end-prediction_start\n",
    "                    \n",
    "# print(\"Accuracy: {:.4%}\".format(acc))\n",
    "# print(\"Precision: {:.4%}\".format(pre))\n",
    "# print(\"Recall: {:.4%}\".format(rec))\n",
    "# print(\"AUC: {}\".format(AUC))\n",
    "# print(\"Time consumed for training: %4.3f seconds\" % (knn_train_time))\n",
    "# print(\"Time consumed for prediction: %6.5f seconds\" % (knn_prediction_time))"
   ]
  },
  {
   "cell_type": "code",
   "execution_count": 7,
   "metadata": {},
   "outputs": [],
   "source": [
    "import time"
   ]
  },
  {
   "cell_type": "code",
   "execution_count": 8,
   "metadata": {},
   "outputs": [
    {
     "name": "stdout",
     "output_type": "stream",
     "text": [
      "Time consumed for training: 5546.267 seconds\n"
     ]
    }
   ],
   "source": [
    "training_start = time.perf_counter()\n",
    "xgbmodel=ran_search_xgb.fit(trainX,trainY)\n",
    "training_end = time.perf_counter()\n",
    "\n",
    "train_time = training_end-training_start\n",
    "\n",
    "print(\"Time consumed for training: %4.3f seconds\" % (train_time))"
   ]
  },
  {
   "cell_type": "code",
   "execution_count": 9,
   "metadata": {},
   "outputs": [
    {
     "name": "stdout",
     "output_type": "stream",
     "text": [
      "Best parameters found:  {'subsample': 1, 'n_estimators': 3000, 'max_depth': 5, 'learning_rate': 1, 'colsample_bytree': 0.9}\n",
      "Lowest RMSE found:  0.4290928319887428\n"
     ]
    }
   ],
   "source": [
    "print(\"Best parameters found: \", ran_search_xgb.best_params_)\n",
    "print(\"Lowest RMSE found: \", np.sqrt(np.abs(ran_search_xgb.best_score_)))"
   ]
  },
  {
   "cell_type": "code",
   "execution_count": 15,
   "metadata": {},
   "outputs": [],
   "source": [
    "from sklearn.metrics import precision_score, recall_score, roc_auc_score, accuracy_score, roc_curve"
   ]
  },
  {
   "cell_type": "code",
   "execution_count": 12,
   "metadata": {},
   "outputs": [],
   "source": [
    "df2=pd.read_csv('../data/le_test.csv',index_col=0)"
   ]
  },
  {
   "cell_type": "code",
   "execution_count": 20,
   "metadata": {},
   "outputs": [],
   "source": [
    "testX=df2.drop('readmitted',axis=1).copy()\n",
    "testY=df2['readmitted']"
   ]
  },
  {
   "cell_type": "code",
   "execution_count": 23,
   "metadata": {},
   "outputs": [
    {
     "name": "stdout",
     "output_type": "stream",
     "text": [
      "Time consumed for prediction: 5.97720 seconds\n"
     ]
    }
   ],
   "source": [
    "prediction_start = time.perf_counter()\n",
    "preds = xgbmodel.predict(testX)\n",
    "prediction_end = time.perf_counter()\n",
    "\n",
    "prediction_time = prediction_end-prediction_start\n",
    "\n",
    "print(\"Time consumed for prediction: %6.5f seconds\" % (prediction_time))"
   ]
  },
  {
   "cell_type": "code",
   "execution_count": 26,
   "metadata": {},
   "outputs": [
    {
     "data": {
      "text/plain": [
       "array([ 0.11785704, -0.08038265,  0.02597851,  0.03398538, -0.3585565 ,\n",
       "        0.38043416, -0.04759473,  0.0736424 ,  0.11565429,  0.2569903 ,\n",
       "       -0.25421864,  0.36298358,  0.28497243,  0.11373284,  0.18197161,\n",
       "        0.19930771,  0.23657379, -0.3562013 , -0.13396782,  0.19981071,\n",
       "        0.29282403,  0.19617486, -0.12990159,  0.13333666, -0.28703928,\n",
       "       -0.05574435,  0.0114353 ,  0.24104747,  0.2934407 , -0.1173526 ,\n",
       "        0.37156057,  0.5073163 ,  0.15572852, -0.03937083, -0.34466344,\n",
       "       -0.19455868, -0.45188767,  0.30009776, -0.03502268, -0.3298875 ,\n",
       "        0.93974745, -0.12837565,  0.28789312, -0.09214598,  0.26599926,\n",
       "       -0.6353445 ,  0.16131642, -0.28260082, -0.85868454,  0.23840272,\n",
       "       -0.13535744,  0.02031106, -0.18093985,  0.03039771,  0.12564167,\n",
       "        0.34560812, -0.42508912, -0.6581745 ,  0.51037353,  0.4846528 ,\n",
       "        0.37863812, -0.46838295,  0.09974626,  0.53806067, -0.062819  ,\n",
       "        0.3454277 ,  0.49358085,  0.38896495, -0.15476197,  0.04756266,\n",
       "        0.33455098,  0.7156012 , -0.6258173 ,  0.03437492,  0.30718502,\n",
       "        0.65643275,  0.02071869,  0.02533385,  0.24481839,  0.12931037,\n",
       "        0.29195118,  0.34346455, -0.01531929,  0.05020142, -0.8790394 ,\n",
       "       -0.26803696,  0.13460532,  0.18420917,  0.78120583,  0.23323086,\n",
       "        0.03019005, -0.19333613,  0.21521503,  0.15117782,  0.38509798,\n",
       "       -0.04482913,  0.0507412 ,  0.32148772,  0.06371579, -0.0369404 ],\n",
       "      dtype=float32)"
      ]
     },
     "execution_count": 26,
     "metadata": {},
     "output_type": "execute_result"
    }
   ],
   "source": [
    "preds[:100]"
   ]
  },
  {
   "cell_type": "code",
   "execution_count": null,
   "metadata": {},
   "outputs": [],
   "source": [
    "# acc = accuracy_score(testY, preds)\n",
    "# pre = precision_score(testY, preds)\n",
    "# rec = recall_score(testY, preds)\n",
    "# AUC = roc_auc_score(testY, preds)\n",
    "\n",
    "                    \n",
    "# print(\"Accuracy: {:.4%}\".format(acc))\n",
    "# print(\"Precision: {:.4%}\".format(pre))\n",
    "# print(\"Recall: {:.4%}\".format(rec))\n",
    "# print(\"AUC: {}\".format(AUC))"
   ]
  }
 ],
 "metadata": {
  "kernelspec": {
   "display_name": "Python 3",
   "language": "python",
   "name": "python3"
  },
  "language_info": {
   "codemirror_mode": {
    "name": "ipython",
    "version": 3
   },
   "file_extension": ".py",
   "mimetype": "text/x-python",
   "name": "python",
   "nbconvert_exporter": "python",
   "pygments_lexer": "ipython3",
   "version": "3.7.1"
  }
 },
 "nbformat": 4,
 "nbformat_minor": 2
}
